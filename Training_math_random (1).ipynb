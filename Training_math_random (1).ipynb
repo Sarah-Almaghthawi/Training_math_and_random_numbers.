{
 "cells": [
  {
   "cell_type": "code",
   "execution_count": 4,
   "id": "21442716-70d6-4241-aa35-c9cfdbbced8a",
   "metadata": {},
   "outputs": [],
   "source": [
    "import numpy"
   ]
  },
  {
   "cell_type": "code",
   "execution_count": 5,
   "id": "09e4fa7f-66b4-44a3-923f-e98e194fa61f",
   "metadata": {},
   "outputs": [
    {
     "data": {
      "text/plain": [
       "array([1, 2, 3])"
      ]
     },
     "execution_count": 5,
     "metadata": {},
     "output_type": "execute_result"
    }
   ],
   "source": [
    "numpy.array([1,2,3])"
   ]
  },
  {
   "cell_type": "code",
   "execution_count": 6,
   "id": "c5c76bee-255b-4469-8901-bbe7c864e6df",
   "metadata": {},
   "outputs": [
    {
     "data": {
      "text/plain": [
       "array([1, 2, 3])"
      ]
     },
     "execution_count": 6,
     "metadata": {},
     "output_type": "execute_result"
    }
   ],
   "source": [
    "numpy.array([1,2,3]) * 1"
   ]
  },
  {
   "cell_type": "code",
   "execution_count": 7,
   "id": "0ed6a720-c274-45f1-9ccd-712764172c82",
   "metadata": {},
   "outputs": [
    {
     "data": {
      "text/plain": [
       "array([2, 4, 6])"
      ]
     },
     "execution_count": 7,
     "metadata": {},
     "output_type": "execute_result"
    }
   ],
   "source": [
    "numpy.array([1,2,3]) * 2"
   ]
  },
  {
   "cell_type": "code",
   "execution_count": 8,
   "id": "782eb733-47d1-4aa3-9f46-75ea666182bf",
   "metadata": {},
   "outputs": [
    {
     "data": {
      "text/plain": [
       "array([1., 2., 3.])"
      ]
     },
     "execution_count": 8,
     "metadata": {},
     "output_type": "execute_result"
    }
   ],
   "source": [
    "numpy.array([2,4,6]) / 2"
   ]
  },
  {
   "cell_type": "code",
   "execution_count": 9,
   "id": "42240c01-a5df-4d0e-9433-978a90c6634a",
   "metadata": {},
   "outputs": [],
   "source": [
    "import numpy as np "
   ]
  },
  {
   "cell_type": "code",
   "execution_count": 10,
   "id": "31f28877-941b-469c-83cd-8405b66c700d",
   "metadata": {},
   "outputs": [
    {
     "data": {
      "text/plain": [
       "array([1, 2, 3])"
      ]
     },
     "execution_count": 10,
     "metadata": {},
     "output_type": "execute_result"
    }
   ],
   "source": [
    "np.array([1,2,3])"
   ]
  },
  {
   "cell_type": "code",
   "execution_count": 11,
   "id": "7a02155f-5d8d-4bbf-82be-f34badcb10ff",
   "metadata": {},
   "outputs": [
    {
     "data": {
      "text/plain": [
       "array([0, 1, 2])"
      ]
     },
     "execution_count": 11,
     "metadata": {},
     "output_type": "execute_result"
    }
   ],
   "source": [
    "np.arange(3)"
   ]
  },
  {
   "cell_type": "code",
   "execution_count": 13,
   "id": "af5118de-b902-4eac-8aba-5b136ffd5a88",
   "metadata": {},
   "outputs": [
    {
     "name": "stdout",
     "output_type": "stream",
     "text": [
      "np.arange(2,6)) = [2 3 4 5]\n"
     ]
    }
   ],
   "source": [
    "print(f\"np.arange(2,6)) = {np.arange(2,6)}\")"
   ]
  },
  {
   "cell_type": "code",
   "execution_count": 14,
   "id": "9ab266a1-1f20-421a-b2d9-1867a23133b7",
   "metadata": {},
   "outputs": [
    {
     "name": "stdout",
     "output_type": "stream",
     "text": [
      "np.arange(0,10,2) = [0 2 4 6 8]\n"
     ]
    }
   ],
   "source": [
    "print(f\"np.arange(0,10,2) = {np.arange(0,10,2)}\")"
   ]
  },
  {
   "cell_type": "code",
   "execution_count": 15,
   "id": "c1ce7ec3-098b-4fef-af8c-c631212d489f",
   "metadata": {},
   "outputs": [
    {
     "name": "stdout",
     "output_type": "stream",
     "text": [
      "np.arange(10,0,-2) = [10  8  6  4  2] \n",
      "\n"
     ]
    }
   ],
   "source": [
    "print(f\"np.arange(10,0,-2) = {np.arange(10,0,-2)} \\n\")"
   ]
  },
  {
   "cell_type": "code",
   "execution_count": 16,
   "id": "020a3b76-c81f-47ce-91f7-fa21bdb19e5d",
   "metadata": {},
   "outputs": [
    {
     "name": "stdout",
     "output_type": "stream",
     "text": [
      "range(2,6) = [2, 3, 4, 5]\n"
     ]
    }
   ],
   "source": [
    "print(f\"range(2,6) = {list(range(2,6))}\")"
   ]
  },
  {
   "cell_type": "code",
   "execution_count": 17,
   "id": "6398f431-72a6-4d21-9e5d-4bfe048595c0",
   "metadata": {},
   "outputs": [
    {
     "name": "stdout",
     "output_type": "stream",
     "text": [
      "range(0,10,2) = [0, 2, 4, 6, 8]\n"
     ]
    }
   ],
   "source": [
    "print(f\"range(0,10,2) = {list(range(0,10,2))}\")"
   ]
  },
  {
   "cell_type": "code",
   "execution_count": 18,
   "id": "8db77d31-af75-4313-b67c-583c478b43cb",
   "metadata": {},
   "outputs": [
    {
     "name": "stdout",
     "output_type": "stream",
     "text": [
      "range(10,0,-2) = [10, 8, 6, 4, 2]\n"
     ]
    }
   ],
   "source": [
    "print(f\"range(10,0,-2) = {list(range(10,0,-2))}\")"
   ]
  },
  {
   "cell_type": "code",
   "execution_count": 19,
   "id": "998c2309-34be-4247-ad1f-97b0a7b7d65d",
   "metadata": {},
   "outputs": [
    {
     "data": {
      "text/plain": [
       "array([-2,  0,  2,  4,  6])"
      ]
     },
     "execution_count": 19,
     "metadata": {},
     "output_type": "execute_result"
    }
   ],
   "source": [
    "np.arange(0,10,2) - 2"
   ]
  },
  {
   "cell_type": "code",
   "execution_count": 20,
   "id": "93ab52e7-48d4-4364-9897-0a8a7d9cc452",
   "metadata": {},
   "outputs": [
    {
     "data": {
      "text/plain": [
       "array([ 8, 16, 24, 32, 40])"
      ]
     },
     "execution_count": 20,
     "metadata": {},
     "output_type": "execute_result"
    }
   ],
   "source": [
    "np.arange(10,51,10) - np.arange(2,11,2)"
   ]
  },
  {
   "cell_type": "code",
   "execution_count": 21,
   "id": "b609ca5a-04c2-4f9c-8f3f-11fed1d5c15d",
   "metadata": {},
   "outputs": [
    {
     "data": {
      "text/plain": [
       "matrix([[1, 2, 3],\n",
       "        [4, 5, 6],\n",
       "        [7, 8, 9]])"
      ]
     },
     "execution_count": 21,
     "metadata": {},
     "output_type": "execute_result"
    }
   ],
   "source": [
    "np.matrix([\n",
    "    [1,2,3],\n",
    "    [4,5,6],\n",
    "    [7,8,9]   \n",
    "])"
   ]
  },
  {
   "cell_type": "code",
   "execution_count": 24,
   "id": "2d29e19f-e9e1-4ab2-99da-2755d6d5cbb8",
   "metadata": {},
   "outputs": [
    {
     "name": "stdout",
     "output_type": "stream",
     "text": [
      "matrix.shape = (3, 3)\n",
      "array.shape = (5,)\n"
     ]
    }
   ],
   "source": [
    "matrix = np.matrix([\n",
    "    [1,2,3],\n",
    "    [4,5,6],\n",
    "    [7,8,9]\n",
    "])\n",
    "array = np.arange(10,51,10)\n",
    "print(f\"matrix.shape = {matrix.shape}\")\n",
    "print(f\"array.shape = {array.shape}\")"
   ]
  },
  {
   "cell_type": "code",
   "execution_count": 25,
   "id": "3a90f0bb-ec94-4a99-b191-a9764cd15ff2",
   "metadata": {},
   "outputs": [
    {
     "data": {
      "text/plain": [
       "matrix([[ 3,  4,  5],\n",
       "        [ 6,  7,  8],\n",
       "        [ 9, 10, 11]])"
      ]
     },
     "execution_count": 25,
     "metadata": {},
     "output_type": "execute_result"
    }
   ],
   "source": [
    "np.matrix([\n",
    "    [1,2,3],\n",
    "    [4,5,6],\n",
    "    [7,8,9]\n",
    "]) + 2"
   ]
  },
  {
   "cell_type": "code",
   "execution_count": 26,
   "id": "c1ac73d0-427a-4adc-b056-5fdf2cee6e46",
   "metadata": {},
   "outputs": [
    {
     "data": {
      "text/plain": [
       "matrix([[ 2,  4,  6],\n",
       "        [ 8, 10, 12],\n",
       "        [14, 16, 18]])"
      ]
     },
     "execution_count": 26,
     "metadata": {},
     "output_type": "execute_result"
    }
   ],
   "source": [
    "np.matrix([\n",
    "    [1,2,3],\n",
    "    [4,5,6],\n",
    "    [7,8,9]\n",
    "]) * 2"
   ]
  },
  {
   "cell_type": "code",
   "execution_count": 27,
   "id": "f33430ba-6b75-4c9b-b700-23ba0dcedaea",
   "metadata": {},
   "outputs": [
    {
     "data": {
      "text/plain": [
       "matrix([[ 30,  36,  42],\n",
       "        [ 66,  81,  96],\n",
       "        [102, 126, 150]])"
      ]
     },
     "execution_count": 27,
     "metadata": {},
     "output_type": "execute_result"
    }
   ],
   "source": [
    "np.matrix([\n",
    "    [1,2,3],\n",
    "    [4,5,6],\n",
    "    [7,8,9]\n",
    "]) * np.matrix([\n",
    "    [1,2,3],\n",
    "    [4,5,6],\n",
    "    [7,8,9]\n",
    "])"
   ]
  },
  {
   "cell_type": "code",
   "execution_count": 28,
   "id": "1d33b7e5-1aa1-44c7-8e24-b9764d85594f",
   "metadata": {},
   "outputs": [
    {
     "data": {
      "text/plain": [
       "matrix([[ 30,  36,  42],\n",
       "        [ 66,  81,  96],\n",
       "        [102, 126, 150]])"
      ]
     },
     "execution_count": 28,
     "metadata": {},
     "output_type": "execute_result"
    }
   ],
   "source": [
    "numpy.matmul(\n",
    "    np.matrix([\n",
    "        [1,2,3],\n",
    "        [4,5,6],\n",
    "        [7,8,9]]),\n",
    "    np.matrix([\n",
    "        [1,2,3],\n",
    "        [4,5,6],\n",
    "        [7,8,9]],\n",
    "    )\n",
    ")"
   ]
  },
  {
   "cell_type": "code",
   "execution_count": 29,
   "id": "badda65c-a1fd-4077-9452-bd6c263d0761",
   "metadata": {},
   "outputs": [
    {
     "data": {
      "text/plain": [
       "matrix([[ 1,  2,  3],\n",
       "        [ 4,  8, 12],\n",
       "        [ 7, 14, 21]])"
      ]
     },
     "execution_count": 29,
     "metadata": {},
     "output_type": "execute_result"
    }
   ],
   "source": [
    "numpy.matmul(\n",
    "    np.matrix([\n",
    "        [1],\n",
    "        [4],\n",
    "        [7]]),\n",
    "    np.matrix([\n",
    "        [1,2,3],\n",
    "       ],\n",
    "    )\n",
    ")"
   ]
  },
  {
   "cell_type": "code",
   "execution_count": 30,
   "id": "dcb94d75-4030-4030-a063-0a658c9a978c",
   "metadata": {},
   "outputs": [
    {
     "data": {
      "text/plain": [
       "array([[1., 0., 0., 0., 0.],\n",
       "       [0., 1., 0., 0., 0.],\n",
       "       [0., 0., 1., 0., 0.],\n",
       "       [0., 0., 0., 1., 0.],\n",
       "       [0., 0., 0., 0., 1.]])"
      ]
     },
     "execution_count": 30,
     "metadata": {},
     "output_type": "execute_result"
    }
   ],
   "source": [
    "np.eye(5)"
   ]
  },
  {
   "cell_type": "code",
   "execution_count": 31,
   "id": "70f11e8e-2727-443c-9882-63bce36b72cc",
   "metadata": {},
   "outputs": [
    {
     "data": {
      "text/plain": [
       "array([0.2, 0.2, 0.2, 0.2, 0.2])"
      ]
     },
     "execution_count": 31,
     "metadata": {},
     "output_type": "execute_result"
    }
   ],
   "source": [
    "np.eye(5).mean(axis=0)"
   ]
  },
  {
   "cell_type": "code",
   "execution_count": 32,
   "id": "015ef9cc-9fe6-4d33-9f00-2b91526b59d1",
   "metadata": {},
   "outputs": [
    {
     "data": {
      "text/plain": [
       "array([0.2, 0.2, 0.2, 0.2, 0.2])"
      ]
     },
     "execution_count": 32,
     "metadata": {},
     "output_type": "execute_result"
    }
   ],
   "source": [
    "np.eye(5).mean(axis=1)"
   ]
  },
  {
   "cell_type": "code",
   "execution_count": 33,
   "id": "1a2e48ef-38db-4f1d-99e3-fe4902b1c4c6",
   "metadata": {},
   "outputs": [
    {
     "data": {
      "text/plain": [
       "0.2"
      ]
     },
     "execution_count": 33,
     "metadata": {},
     "output_type": "execute_result"
    }
   ],
   "source": [
    "np.eye(5).mean()"
   ]
  },
  {
   "cell_type": "code",
   "execution_count": 34,
   "id": "1dd84d61-c515-46dd-9385-e1680c4e1295",
   "metadata": {},
   "outputs": [
    {
     "data": {
      "text/plain": [
       "matrix([[1, 2, 3],\n",
       "        [4, 5, 6],\n",
       "        [7, 8, 9]])"
      ]
     },
     "execution_count": 34,
     "metadata": {},
     "output_type": "execute_result"
    }
   ],
   "source": [
    "np.matrix([\n",
    "    [1,2,3],\n",
    "    [4,5,6],\n",
    "    [7,8,9]\n",
    "])"
   ]
  },
  {
   "cell_type": "code",
   "execution_count": 35,
   "id": "64703ed5-e336-44ac-a9a1-7104d5a20255",
   "metadata": {},
   "outputs": [
    {
     "data": {
      "text/plain": [
       "matrix([[4., 5., 6.]])"
      ]
     },
     "execution_count": 35,
     "metadata": {},
     "output_type": "execute_result"
    }
   ],
   "source": [
    "np.matrix([\n",
    "    [1,2,3],\n",
    "    [4,5,6],\n",
    "    [7,8,9]\n",
    "]).mean(axis=0)"
   ]
  },
  {
   "cell_type": "code",
   "execution_count": 36,
   "id": "224b4df9-6555-40e4-9e69-ffd564e6f062",
   "metadata": {},
   "outputs": [
    {
     "data": {
      "text/plain": [
       "5.0"
      ]
     },
     "execution_count": 36,
     "metadata": {},
     "output_type": "execute_result"
    }
   ],
   "source": [
    "np.matrix([\n",
    "    [1,2,3],\n",
    "    [4,5,6],\n",
    "    [7,8,9]\n",
    "]).mean(axis=0).mean()"
   ]
  },
  {
   "cell_type": "code",
   "execution_count": 37,
   "id": "340852db-4a22-4c1b-b67f-54925c4b6e1a",
   "metadata": {},
   "outputs": [
    {
     "data": {
      "text/plain": [
       "matrix([[2.],\n",
       "        [5.],\n",
       "        [8.]])"
      ]
     },
     "execution_count": 37,
     "metadata": {},
     "output_type": "execute_result"
    }
   ],
   "source": [
    "np.matrix([\n",
    "    [1,2,3],\n",
    "    [4,5,6],\n",
    "    [7,8,9]\n",
    "]).mean(axis=1)"
   ]
  },
  {
   "cell_type": "code",
   "execution_count": 38,
   "id": "bff03537-063f-440d-8179-7531fa434235",
   "metadata": {},
   "outputs": [
    {
     "data": {
      "text/plain": [
       "5.0"
      ]
     },
     "execution_count": 38,
     "metadata": {},
     "output_type": "execute_result"
    }
   ],
   "source": [
    "np.matrix([\n",
    "    [1,2,3],\n",
    "    [4,5,6],\n",
    "    [7,8,9]\n",
    "]).mean(axis=1).mean()"
   ]
  },
  {
   "cell_type": "code",
   "execution_count": 39,
   "id": "57fdbae1-8776-4071-8d11-4dbbf1546d92",
   "metadata": {},
   "outputs": [
    {
     "data": {
      "text/plain": [
       "5.0"
      ]
     },
     "execution_count": 39,
     "metadata": {},
     "output_type": "execute_result"
    }
   ],
   "source": [
    "np.matrix([\n",
    "    [1,2,3],\n",
    "    [4,5,6],\n",
    "    [7,8,9]\n",
    "]).mean()"
   ]
  },
  {
   "cell_type": "code",
   "execution_count": 40,
   "id": "af8f400f-9d71-4be9-8156-e4ac67b3554b",
   "metadata": {},
   "outputs": [
    {
     "name": "stdout",
     "output_type": "stream",
     "text": [
      "min of matrix: matrix.min() = 1\n",
      "max of matrix: matrix.max() = 9 \n",
      "\n",
      "min of each column: matrix.min(axis = 0) = [[1 2 3]]\n",
      "max of each row: matrix.max(axis = 1) = \n",
      " [[3]\n",
      " [6]\n",
      " [9]] \n",
      "\n",
      "standard deviation of matrix: matrix.std() = 2.581988897471611\n"
     ]
    }
   ],
   "source": [
    "matrix = np.matrix([\n",
    "    [1,2,3],\n",
    "    [4,5,6],\n",
    "    [7,8,9]\n",
    "])\n",
    "print(f\"min of matrix: matrix.min() = {matrix.min()}\")\n",
    "print(f\"max of matrix: matrix.max() = {matrix.max()} \\n\")\n",
    "\n",
    "print(f\"min of each column: matrix.min(axis = 0) = {matrix.min(axis = 0)}\")\n",
    "print(f\"max of each row: matrix.max(axis = 1) = \\n {matrix.max(axis = 1)} \\n\")\n",
    "\n",
    "print(f\"standard deviation of matrix: matrix.std() = {matrix.std()}\")"
   ]
  },
  {
   "cell_type": "code",
   "execution_count": 41,
   "id": "63688f75-5ab7-4657-a77f-305cb9bda453",
   "metadata": {},
   "outputs": [],
   "source": [
    "import random"
   ]
  },
  {
   "cell_type": "code",
   "execution_count": 43,
   "id": "1ffd1e3d-4d13-41ba-955c-bcfe82034da1",
   "metadata": {},
   "outputs": [
    {
     "name": "stdout",
     "output_type": "stream",
     "text": [
      "8\n",
      "1\n",
      "8\n",
      "7\n",
      "2\n",
      "6\n",
      "6\n",
      "2\n",
      "0\n",
      "3\n"
     ]
    }
   ],
   "source": [
    "for _ in range(10):\n",
    "    print(random.randint(0,10))"
   ]
  },
  {
   "cell_type": "code",
   "execution_count": 44,
   "id": "b2b72129-1545-4bd5-b0b0-cf6a3112f77d",
   "metadata": {},
   "outputs": [
    {
     "name": "stdout",
     "output_type": "stream",
     "text": [
      "7\n",
      "4\n",
      "3\n",
      "6\n",
      "2\n",
      "2\n",
      "9\n",
      "3\n",
      "5\n",
      "4\n"
     ]
    }
   ],
   "source": [
    "for _ in range(10):\n",
    "    print(random.randint(0,10))"
   ]
  },
  {
   "cell_type": "code",
   "execution_count": 46,
   "id": "d2513d58-7451-421d-9d1e-0a5fcb4c9d40",
   "metadata": {},
   "outputs": [
    {
     "name": "stdout",
     "output_type": "stream",
     "text": [
      "6\n",
      "6\n",
      "0\n",
      "4\n",
      "8\n",
      "7\n",
      "6\n",
      "4\n",
      "7\n",
      "5\n",
      "\n",
      "\n",
      "6\n",
      "6\n",
      "0\n",
      "4\n",
      "8\n",
      "7\n",
      "6\n",
      "4\n",
      "7\n",
      "5\n"
     ]
    }
   ],
   "source": [
    "random.seed(0)\n",
    "for _ in range(10): print(random.randint(0,10))\n",
    "print('\\n')\n",
    "random.seed(0)\n",
    "for _ in range(10): print(random.randint(0,10))"
   ]
  },
  {
   "cell_type": "code",
   "execution_count": 47,
   "id": "895c386f-92e1-4390-9c16-50349f1a03f1",
   "metadata": {},
   "outputs": [
    {
     "name": "stdout",
     "output_type": "stream",
     "text": [
      "6\n",
      "6\n",
      "0\n",
      "4\n",
      "8\n",
      "7\n",
      "6\n",
      "4\n",
      "7\n",
      "5\n",
      "\n",
      "\n",
      "9\n",
      "3\n",
      "8\n",
      "2\n",
      "4\n",
      "2\n",
      "1\n",
      "9\n",
      "4\n",
      "8\n"
     ]
    }
   ],
   "source": [
    "random.seed(0)\n",
    "for _ in range(10): print(random.randint(0,10))\n",
    "    \n",
    "print('\\n')\n",
    "for _ in range(10): print(random.randint(0,10))"
   ]
  },
  {
   "cell_type": "code",
   "execution_count": 48,
   "id": "3f02d9fd-27e3-4949-9e04-20199f51b13c",
   "metadata": {},
   "outputs": [
    {
     "name": "stdout",
     "output_type": "stream",
     "text": [
      "Saturday\n",
      "Sunday\n",
      "Friday\n"
     ]
    }
   ],
   "source": [
    "hat = ['Monday','Tuesday','Wednesday','Thursday','Friday','Saturday','Sunday']\n",
    "\n",
    "for idx in [random.randint(0,6) for _ in range(3)]:\n",
    "    print(hat[idx])"
   ]
  },
  {
   "cell_type": "code",
   "execution_count": 49,
   "id": "1bd38cdf-c5f5-4a43-94cd-7caeed8b6318",
   "metadata": {},
   "outputs": [
    {
     "name": "stdout",
     "output_type": "stream",
     "text": [
      "[0.02752232 0.33652921 0.91644471 0.38761125 0.97295082 0.42187006\n",
      " 0.29984643 0.60775024 0.795398   0.39476879 0.81273322 0.30874171\n",
      " 0.42029527 0.72431312 0.37667351 0.52851813 0.27257892 0.65034388\n",
      " 0.72116107 0.82713468 0.88428338 0.3809211  0.12072218 0.63548346\n",
      " 0.71449069 0.51879251 0.15006338 0.71371158 0.99594609 0.92363649\n",
      " 0.91300071 0.75715031 0.40882226 0.66132398 0.52712789 0.42249255\n",
      " 0.35524648 0.66277863 0.61544299 0.02528575 0.15983302 0.54051545\n",
      " 0.29215282 0.14428997 0.66624493 0.63616036 0.59885413 0.72055501\n",
      " 0.12000779 0.2516239 ]\n",
      "\n",
      "mean of our sample: uniform_random_sample.mean() = 0.5264029024439293.\n",
      "As we can see, it's pretty close to 0.5, as expected.\n"
     ]
    }
   ],
   "source": [
    "uniform_random_sample = np.random.uniform(size=50)\n",
    "\n",
    "print(uniform_random_sample)\n",
    "print(f\"\\nmean of our sample: uniform_random_sample.mean() = {uniform_random_sample.mean()}.\") \n",
    "print(\"As we can see, it's pretty close to 0.5, as expected.\")"
   ]
  },
  {
   "cell_type": "code",
   "execution_count": 50,
   "id": "a6d3c278-2399-4b6b-99c8-d4aaf295bce3",
   "metadata": {},
   "outputs": [
    {
     "name": "stdout",
     "output_type": "stream",
     "text": [
      "[11.38493889 10.77146467 12.07132205  7.17512064  7.95407772 11.35755268\n",
      "  9.59035559 11.90969999 12.04620754  8.98208957 11.27133349  7.89584828\n",
      "  9.55397328  8.11424609  8.80886059  7.0749376  10.19885701  9.20797056\n",
      " 11.69209588  7.00805979 11.24797538 11.09005573  8.86577413 10.02463289\n",
      "  8.47048173  9.83462183 13.00896239  8.09574124  8.3180185   7.98927429\n",
      "  6.76062998 12.4584194  10.10789547  7.82024989  6.91070748 12.87707253\n",
      "  8.1506292   9.61126188 13.80809302  5.76401167 10.51354047 10.39753907\n",
      " 13.06905689  7.06594873  8.56641777 11.34499507  8.73982055  5.27952325\n",
      "  7.13940024  5.70979038]\n",
      "\n",
      "mean of our sample: normal_sample.mean() = 9.46219105912224.\n",
      "As we can see, it's pretty close to 10, as expected.\n",
      "standard deviation of our sample: normal_sample.std() = 2.1047887809658787.\n",
      "As we can see, it's pretty close to 2, as expected.\n"
     ]
    }
   ],
   "source": [
    "normal_sample = numpy.random.normal(loc=10, scale=2, size=50)\n",
    "\n",
    "print(normal_sample)\n",
    "print(f\"\\nmean of our sample: normal_sample.mean() = {normal_sample.mean()}.\") \n",
    "print(\"As we can see, it's pretty close to 10, as expected.\")\n",
    "print(f\"standard deviation of our sample: normal_sample.std() = {normal_sample.std()}.\") \n",
    "print(\"As we can see, it's pretty close to 2, as expected.\")"
   ]
  },
  {
   "cell_type": "code",
   "execution_count": 51,
   "id": "4f3eefd9-8bc4-444b-98d5-e19af62a0a1a",
   "metadata": {},
   "outputs": [
    {
     "name": "stdout",
     "output_type": "stream",
     "text": [
      "\n",
      "mean of our sample: normal_sample.mean() = 9.992262369088124.\n",
      "Much closer to 10, as expected.\n",
      "standard deviation of our sample: normal_sample.std() = 1.9884815984805975.\n",
      "Much closer to 2, as expected.\n"
     ]
    }
   ],
   "source": [
    "normal_sample = numpy.random.normal(loc=10, scale=2, size=50000)\n",
    "\n",
    "print(f\"\\nmean of our sample: normal_sample.mean() = {normal_sample.mean()}.\") \n",
    "print(\"Much closer to 10, as expected.\")\n",
    "print(f\"standard deviation of our sample: normal_sample.std() = {normal_sample.std()}.\") \n",
    "print(\"Much closer to 2, as expected.\")"
   ]
  },
  {
   "cell_type": "code",
   "execution_count": 52,
   "id": "8c379ae6-970a-4319-9071-1fc7059cacb6",
   "metadata": {},
   "outputs": [
    {
     "data": {
      "image/png": "[encoded data removed]",
      "text/plain": [
       "<Figure size 432x288 with 1 Axes>"
      ]
     },
     "metadata": {
      "needs_background": "light"
     },
     "output_type": "display_data"
    }
   ],
   "source": [
    "from scipy.stats import norm\n",
    "import matplotlib.pyplot as plt\n",
    "\n",
    "mu, std = norm.fit(normal_sample) \n",
    "plt.hist(normal_sample, bins=25, density=True, alpha=0.6, color='b')\n",
    "xmin, xmax = plt.xlim()\n",
    "x = np.linspace(xmin, xmax, 100)\n",
    "p = norm.pdf(x, mu, std)\n",
    "  \n",
    "plt.plot(x, p, 'k', linewidth=2)\n",
    "title = \"Mean: {:.2f}, Std: {:.2f}, N: {}\".format(mu, std,len(normal_sample))\n",
    "plt.title(title)\n",
    "plt.show()"
   ]
  },
  {
   "cell_type": "code",
   "execution_count": 53,
   "id": "644aba64-cec7-462c-83cc-80ef623f3eaa",
   "metadata": {},
   "outputs": [
    {
     "name": "stdout",
     "output_type": "stream",
     "text": [
      "Addition         : 2 + 5 = 7\n",
      "Subtraction      : 5 - 2 = 3\n",
      "Subtraction      : 2 - 5 = -3\n",
      "Multiplication   : 2 * 5 = 10\n",
      "Divison          : 2 / 5 = 0.4\n",
      "Modulo           : 5 % 2 = 1\n",
      "Power            : 5 ** 2 = 25\n",
      "Roots(as powers) : 25 ** 0.5 = 5.0\n"
     ]
    }
   ],
   "source": [
    "variable_1 = 2\n",
    "variable_2 = 5\n",
    "\n",
    "print(f\"Addition         : {variable_1} + {variable_2} = { (variable_1 + variable_2) }\")\n",
    "print(f\"Subtraction      : {variable_2} - {variable_1} = { (variable_2 - variable_1) }\")\n",
    "print(f\"Subtraction      : {variable_1} - {variable_2} = { (variable_1 - variable_2) }\")\n",
    "print(f\"Multiplication   : {variable_1} * {variable_2} = { (variable_1 * variable_2) }\")\n",
    "print(f\"Divison          : {variable_1} / {variable_2} = { (variable_1 / variable_2) }\")\n",
    "print(f\"Modulo           : {variable_2} % {variable_1} = { (variable_2 % variable_1) }\")\n",
    "print(f\"Power            : {variable_2} ** {variable_1} = { (variable_2 ** variable_1)}\")\n",
    "print(f\"Roots(as powers) : {25} ** {0.5} = { (25 ** 0.5) }\")"
   ]
  },
  {
   "cell_type": "code",
   "execution_count": 54,
   "id": "e93e211a-fd68-47d9-994a-22968f896eb7",
   "metadata": {},
   "outputs": [
    {
     "name": "stdout",
     "output_type": "stream",
     "text": [
      "String Concatination: \n",
      " ABC + XYZ = ABCXYZ \n",
      "String Multiplication: \n",
      " ABC * 3 = ABCABCABC \n",
      "\n",
      "Array Concatination: \n",
      " [1, 2, 3] + ['A', None, 'C'] = [1, 2, 3, 'A', None, 'C'] \n",
      "Array Multiplication: \n",
      " [1, 2, 3] * 3 = [1, 2, 3, 1, 2, 3, 1, 2, 3] \n"
     ]
    }
   ],
   "source": [
    "print(f'String Concatination: \\n {\"ABC\"} + {\"XYZ\"} = { \"ABC\" + \"XYZ\" } ')\n",
    "print(f'String Multiplication: \\n {\"ABC\"} * 3 = { \"ABC\" * 3 } \\n')\n",
    "print(f'Array Concatination: \\n { [1,2,3] } + { [\"A\",None,\"C\"] } = { [1,2,3] + [\"A\",None,\"C\"] } ')\n",
    "print(f'Array Multiplication: \\n { [1,2,3] } * 3 = { [1,2,3] * 3 } ')"
   ]
  },
  {
   "cell_type": "code",
   "execution_count": 55,
   "id": "d2c68165-ec01-4214-a2b2-bef3a2e6bfbe",
   "metadata": {},
   "outputs": [
    {
     "name": "stdout",
     "output_type": "stream",
     "text": [
      " abs(-10) = 10 = |-10|\n",
      "\n",
      " list_1 = [1, 2, 3] \n",
      "\n",
      " min(list_1) = 1 \n",
      " max(list_1) = 3 \n",
      "\n",
      " round(2.2) = 2 \n",
      " round(3.9) = 4 \n"
     ]
    }
   ],
   "source": [
    "print(f\" abs(-10) = {abs(-10)} = |-10|\")\n",
    "\n",
    "list_1 = [1,2,3]\n",
    "\n",
    "print(f\"\\n list_1 = {list_1} \\n\")\n",
    "\n",
    "print(f\" min(list_1) = { min(list_1) } \")\n",
    "print(f\" max(list_1) = { max(list_1) } \\n\")\n",
    "\n",
    "print(f\" round(2.2) = { round(2.2) } \")\n",
    "print(f\" round(3.9) = { round(3.9) } \")"
   ]
  },
  {
   "cell_type": "code",
   "execution_count": 56,
   "id": "e5b3f0fd-31c0-44ca-9607-0de92eb83606",
   "metadata": {},
   "outputs": [],
   "source": [
    "import math"
   ]
  },
  {
   "cell_type": "code",
   "execution_count": 57,
   "id": "14d224a2-1051-45a6-b4f7-5f291dcca7ac",
   "metadata": {},
   "outputs": [
    {
     "name": "stdout",
     "output_type": "stream",
     "text": [
      "logarthm (natural) : math.log(1) = 0.0 \n",
      "logarthm (natural) : math.log(math.e) = 1.0 \n",
      "\n",
      "logarthm (base10) : math.log(10, 10) = 1.0 \n",
      "logarthm (base10) : math.log(100, 10) = 2.0 \n",
      "\n"
     ]
    },
    {
     "data": {
      "text/plain": [
       "19.779909588683687"
      ]
     },
     "execution_count": 57,
     "metadata": {},
     "output_type": "execute_result"
    }
   ],
   "source": [
    "print(f\"logarthm (natural) : math.log(1) = {math.log(1)} \")\n",
    "print(f\"logarthm (natural) : math.log(math.e) = {math.log(math.e)} \\n\")\n",
    "print(f\"logarthm (base10) : math.log(10, 10) = {math.log(10, 10)} \")\n",
    "print(f\"logarthm (base10) : math.log(100, 10) = {math.log(100, 10)} \\n\")\n",
    "\n",
    "math.log(389318989)"
   ]
  },
  {
   "cell_type": "code",
   "execution_count": 58,
   "id": "1cf91f2f-2e69-4a7a-90c1-e0a3be0fa985",
   "metadata": {},
   "outputs": [
    {
     "name": "stdout",
     "output_type": "stream",
     "text": [
      "sine: math.sin(math.pi/2) = 1.0 \n",
      "cosine: math.cos(math.pi/2) = 6.123233995736766e-17 ~= 0.0\n",
      "tan: math.log(10, 10) = 0.9999999999999999 \n"
     ]
    }
   ],
   "source": [
    "print(f\"sine: math.sin(math.pi/2) = {math.sin(math.pi/2)} \")\n",
    "print(f\"cosine: math.cos(math.pi/2) = {math.cos(math.pi/2)} ~= {round(math.cos(math.pi/2),2)}\")\n",
    "print(f\"tan: math.log(10, 10) = {math.tan(math.pi*0.25)} \")"
   ]
  },
  {
   "cell_type": "code",
   "execution_count": 59,
   "id": "507cc2f5-b5ba-4f6c-84b4-9b90a70d0b06",
   "metadata": {},
   "outputs": [
    {
     "name": "stdout",
     "output_type": "stream",
     "text": [
      "floor: math.floor(4.2) = 4 \n",
      "ceiling: math.ceil(1.1) = 2 \n"
     ]
    }
   ],
   "source": [
    "print(f\"floor: math.floor(4.2) = {math.floor(4.2)} \")\n",
    "print(f\"ceiling: math.ceil(1.1) = {math.ceil(1.1)} \")"
   ]
  }
 ],
 "metadata": {
  "kernelspec": {
   "display_name": "Python 3",
   "language": "python",
   "name": "python3"
  },
  "language_info": {
   "codemirror_mode": {
    "name": "ipython",
    "version": 3
   },
   "file_extension": ".py",
   "mimetype": "text/x-python",
   "name": "python",
   "nbconvert_exporter": "python",
   "pygments_lexer": "ipython3",
   "version": "3.8.8"
  }
 },
 "nbformat": 4,
 "nbformat_minor": 5
}
